{
 "cells": [
  {
   "cell_type": "markdown",
   "metadata": {},
   "source": [
    "## Project Description: A/B Testing for E-commerce Conversion Optimization\n",
    "### Objective\n",
    "An e-commerce company has developed a new web page aiming to increase user conversion rates. Our goal is to analyze the results of an A/B test comparing the new page and the old page to determine whether the company should implement the new page, keep the old page, or extend the experiment.\n",
    "\n",
    "We will use statistical hypothesis testing and Python-based data analysis to evaluate whether there is a significant difference in conversion rates between the two versions.\n",
    "\n",
    "A/B testing is a statistical method used to compare two versions of a web page to determine which one performs better in terms of user conversion. The goal of this analysis is to evaluate whether the new page significantly improves conversion rates compared to the old page.\n"
   ]
  },
  {
   "cell_type": "code",
   "execution_count": null,
   "metadata": {},
   "outputs": [
    {
     "data": {
      "application/vnd.microsoft.datawrangler.viewer.v0+json": {
       "columns": [
        {
         "name": "index",
         "rawType": "int64",
         "type": "integer"
        },
        {
         "name": "user_id",
         "rawType": "int64",
         "type": "integer"
        },
        {
         "name": "country",
         "rawType": "object",
         "type": "string"
        }
       ],
       "conversionMethod": "pd.DataFrame",
       "ref": "d52b01e7-ec19-467f-996c-a3a7e584e83b",
       "rows": [
        [
         "0",
         "834778",
         "UK"
        ],
        [
         "1",
         "928468",
         "US"
        ],
        [
         "2",
         "822059",
         "UK"
        ],
        [
         "3",
         "711597",
         "UK"
        ],
        [
         "4",
         "710616",
         "UK"
        ],
        [
         "5",
         "909908",
         "UK"
        ],
        [
         "6",
         "811617",
         "US"
        ],
        [
         "7",
         "938122",
         "US"
        ],
        [
         "8",
         "887018",
         "US"
        ],
        [
         "9",
         "820683",
         "US"
        ],
        [
         "10",
         "697357",
         "US"
        ],
        [
         "11",
         "748296",
         "US"
        ],
        [
         "12",
         "666132",
         "UK"
        ],
        [
         "13",
         "668810",
         "UK"
        ],
        [
         "14",
         "940939",
         "US"
        ],
        [
         "15",
         "646414",
         "US"
        ],
        [
         "16",
         "907385",
         "US"
        ],
        [
         "17",
         "698200",
         "US"
        ],
        [
         "18",
         "738692",
         "US"
        ],
        [
         "19",
         "724651",
         "US"
        ],
        [
         "20",
         "662682",
         "US"
        ],
        [
         "21",
         "639818",
         "US"
        ],
        [
         "22",
         "920941",
         "US"
        ],
        [
         "23",
         "804632",
         "US"
        ],
        [
         "24",
         "684798",
         "UK"
        ],
        [
         "25",
         "766270",
         "UK"
        ],
        [
         "26",
         "857817",
         "UK"
        ],
        [
         "27",
         "750698",
         "UK"
        ],
        [
         "28",
         "721445",
         "US"
        ],
        [
         "29",
         "744732",
         "UK"
        ],
        [
         "30",
         "666209",
         "US"
        ],
        [
         "31",
         "652847",
         "US"
        ],
        [
         "32",
         "921903",
         "US"
        ],
        [
         "33",
         "908277",
         "US"
        ],
        [
         "34",
         "641084",
         "US"
        ],
        [
         "35",
         "739948",
         "UK"
        ],
        [
         "36",
         "907395",
         "US"
        ],
        [
         "37",
         "709491",
         "US"
        ],
        [
         "38",
         "790145",
         "US"
        ],
        [
         "39",
         "703168",
         "US"
        ],
        [
         "40",
         "845421",
         "US"
        ],
        [
         "41",
         "845791",
         "US"
        ],
        [
         "42",
         "795161",
         "UK"
        ],
        [
         "43",
         "877639",
         "US"
        ],
        [
         "44",
         "914295",
         "US"
        ],
        [
         "45",
         "779488",
         "US"
        ],
        [
         "46",
         "832716",
         "US"
        ],
        [
         "47",
         "838496",
         "US"
        ],
        [
         "48",
         "756470",
         "US"
        ],
        [
         "49",
         "923544",
         "UK"
        ]
       ],
       "shape": {
        "columns": 2,
        "rows": 290586
       }
      },
      "text/html": [
       "<div>\n",
       "<style scoped>\n",
       "    .dataframe tbody tr th:only-of-type {\n",
       "        vertical-align: middle;\n",
       "    }\n",
       "\n",
       "    .dataframe tbody tr th {\n",
       "        vertical-align: top;\n",
       "    }\n",
       "\n",
       "    .dataframe thead th {\n",
       "        text-align: right;\n",
       "    }\n",
       "</style>\n",
       "<table border=\"1\" class=\"dataframe\">\n",
       "  <thead>\n",
       "    <tr style=\"text-align: right;\">\n",
       "      <th></th>\n",
       "      <th>user_id</th>\n",
       "      <th>country</th>\n",
       "    </tr>\n",
       "  </thead>\n",
       "  <tbody>\n",
       "    <tr>\n",
       "      <th>0</th>\n",
       "      <td>834778</td>\n",
       "      <td>UK</td>\n",
       "    </tr>\n",
       "    <tr>\n",
       "      <th>1</th>\n",
       "      <td>928468</td>\n",
       "      <td>US</td>\n",
       "    </tr>\n",
       "    <tr>\n",
       "      <th>2</th>\n",
       "      <td>822059</td>\n",
       "      <td>UK</td>\n",
       "    </tr>\n",
       "    <tr>\n",
       "      <th>3</th>\n",
       "      <td>711597</td>\n",
       "      <td>UK</td>\n",
       "    </tr>\n",
       "    <tr>\n",
       "      <th>4</th>\n",
       "      <td>710616</td>\n",
       "      <td>UK</td>\n",
       "    </tr>\n",
       "    <tr>\n",
       "      <th>...</th>\n",
       "      <td>...</td>\n",
       "      <td>...</td>\n",
       "    </tr>\n",
       "    <tr>\n",
       "      <th>290581</th>\n",
       "      <td>799368</td>\n",
       "      <td>UK</td>\n",
       "    </tr>\n",
       "    <tr>\n",
       "      <th>290582</th>\n",
       "      <td>655535</td>\n",
       "      <td>CA</td>\n",
       "    </tr>\n",
       "    <tr>\n",
       "      <th>290583</th>\n",
       "      <td>934996</td>\n",
       "      <td>UK</td>\n",
       "    </tr>\n",
       "    <tr>\n",
       "      <th>290584</th>\n",
       "      <td>759899</td>\n",
       "      <td>US</td>\n",
       "    </tr>\n",
       "    <tr>\n",
       "      <th>290585</th>\n",
       "      <td>643532</td>\n",
       "      <td>US</td>\n",
       "    </tr>\n",
       "  </tbody>\n",
       "</table>\n",
       "<p>290586 rows × 2 columns</p>\n",
       "</div>"
      ],
      "text/plain": [
       "        user_id country\n",
       "0        834778      UK\n",
       "1        928468      US\n",
       "2        822059      UK\n",
       "3        711597      UK\n",
       "4        710616      UK\n",
       "...         ...     ...\n",
       "290581   799368      UK\n",
       "290582   655535      CA\n",
       "290583   934996      UK\n",
       "290584   759899      US\n",
       "290585   643532      US\n",
       "\n",
       "[290586 rows x 2 columns]"
      ]
     },
     "execution_count": 2,
     "metadata": {},
     "output_type": "execute_result"
    }
   ],
   "source": [
    "import pandas as pd\n",
    "\n",
    "# Importing the Datasets\n",
    "df_ab = pd.read_csv('ab_data.csv')\n",
    "df_country = pd.read_csv('countries.csv')\n",
    "df_ab\n"
   ]
  }
 ],
 "metadata": {
  "kernelspec": {
   "display_name": "Python 3",
   "language": "python",
   "name": "python3"
  },
  "language_info": {
   "codemirror_mode": {
    "name": "ipython",
    "version": 3
   },
   "file_extension": ".py",
   "mimetype": "text/x-python",
   "name": "python",
   "nbconvert_exporter": "python",
   "pygments_lexer": "ipython3",
   "version": "3.13.0"
  }
 },
 "nbformat": 4,
 "nbformat_minor": 2
}
